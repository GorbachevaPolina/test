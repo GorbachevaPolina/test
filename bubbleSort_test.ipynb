{
  "nbformat": 4,
  "nbformat_minor": 0,
  "metadata": {
    "colab": {
      "provenance": [],
      "authorship_tag": "ABX9TyP2XH+cbOVO7eYAQ50LGlGf",
      "include_colab_link": true
    },
    "kernelspec": {
      "name": "python3",
      "display_name": "Python 3"
    },
    "language_info": {
      "name": "python"
    }
  },
  "cells": [
    {
      "cell_type": "markdown",
      "metadata": {
        "id": "view-in-github",
        "colab_type": "text"
      },
      "source": [
        "<a href=\"https://colab.research.google.com/github/GorbachevaPolina/test/blob/main/bubbleSort_test.ipynb\" target=\"_parent\"><img src=\"https://colab.research.google.com/assets/colab-badge.svg\" alt=\"Open In Colab\"/></a>"
      ]
    },
    {
      "cell_type": "code",
      "execution_count": 16,
      "metadata": {
        "id": "r-gaYqo8R3q0"
      },
      "outputs": [],
      "source": [
        "def bubbleSort(arr):\n",
        "    n = len(arr)\n",
        "    for i in range(n):\n",
        "        swapped = False\n",
        "        for j in range(0, n-i-1):\n",
        "            if arr[j] > arr[j+1] :\n",
        "                arr[j], arr[j+1] = arr[j+1], arr[j]\n",
        "                swapped = True\n",
        "        if swapped == False:\n",
        "            break\n",
        "    return arr"
      ]
    },
    {
      "cell_type": "code",
      "source": [
        "import numpy as np\n",
        "import time\n",
        "import math\n",
        "\n",
        "res = []\n",
        "for i in range(200):\n",
        "  array = np.random.randint(1,101,100)\n",
        "  start = time.time()\n",
        "  bubbleSort(array)\n",
        "  end = time.time() - start\n",
        "  res.append(end)\n",
        "\n",
        "f = sum(res) / 200\n",
        "print('Выборочное среднее: ', f)\n",
        "\n",
        "# sn = 0\n",
        "# for i in range(200):\n",
        "#   sn += (res[i] - f) ** 2\n",
        "# sn /= 200\n",
        "res2 = [x ** 2 for x in res]\n",
        "sn = sum(res2) / 200 - f ** 2\n",
        "print('Выборочная дисперсия: ', sn)\n",
        "print('Выборочная сигма: ', math.sqrt(sn))\n",
        "\n",
        "v = math.sqrt(sn) / f\n",
        "print('Коэффициент вариации: ', v)\n",
        "\n",
        "n = round((3.8416 * v ** 2) / 0.001 ** 2)\n",
        "print('Рассчитанный объем выборки: ', n)"
      ],
      "metadata": {
        "colab": {
          "base_uri": "https://localhost:8080/"
        },
        "id": "SFhk7zWAR7Zy",
        "outputId": "386d6ad8-9179-4fce-8c80-53dca324598e"
      },
      "execution_count": 36,
      "outputs": [
        {
          "output_type": "stream",
          "name": "stdout",
          "text": [
            "Выборочное среднее:  0.002289578914642334\n",
            "Выборочная дисперсия:  5.841417896021912e-08\n",
            "Выборочная сигма:  0.0002416902541688827\n",
            "Коэффициент вариации:  0.10556100627203682\n",
            "Рассчитанный объем выборки:  42807\n"
          ]
        }
      ]
    },
    {
      "cell_type": "code",
      "source": [
        "res = []\n",
        "for i in range(n):\n",
        "  array = np.random.randint(1,101,100)\n",
        "  start = time.time()\n",
        "  bubbleSort(array)\n",
        "  end = time.time() - start\n",
        "  res.append(end)\n",
        "\n",
        "f = sum(res) / n\n",
        "print('Выборочное среднее: ', f)\n",
        "\n",
        "res2 = [x ** 2 for x in res]\n",
        "sn = sum(res2) / n - f ** 2\n",
        "print('Выборочная дисперсия: ', sn)\n",
        "print('Выборочная сигма: ', math.sqrt(sn))\n",
        "\n",
        "v = math.sqrt(sn) / f\n",
        "print('Коэффициент вариации: ', v)\n",
        "\n",
        "n = (3.8416 * v ** 2) / 0.001 ** 2\n",
        "print('Рассчитанный объем выборки: ', n)"
      ],
      "metadata": {
        "id": "dYPodVq9SUWH",
        "colab": {
          "base_uri": "https://localhost:8080/"
        },
        "outputId": "ca1a7131-8454-4d32-a37f-bf13e130acdf"
      },
      "execution_count": 37,
      "outputs": [
        {
          "output_type": "stream",
          "name": "stdout",
          "text": [
            "Выборочное среднее:  0.002335739232653517\n",
            "Выборочная дисперсия:  3.982480303501759e-07\n",
            "Выборочная сигма:  0.0006310689584745679\n",
            "Коэффициент вариации:  0.27017954301244573\n",
            "Рассчитанный объем выборки:  280425.21935240965\n"
          ]
        }
      ]
    },
    {
      "cell_type": "code",
      "source": [
        "res = []\n",
        "n = round(n)\n",
        "for i in range(n):\n",
        "  array = np.random.randint(1,101,100)\n",
        "  start = time.time()\n",
        "  bubbleSort(array)\n",
        "  end = time.time() - start\n",
        "  res.append(end)\n",
        "\n",
        "f = sum(res) / n\n",
        "print('Выборочное среднее: ', f)\n",
        "\n",
        "res2 = [x ** 2 for x in res]\n",
        "sn = sum(res2) / n - f ** 2\n",
        "print('Выборочная дисперсия: ', sn)\n",
        "print('Выборочная сигма: ', math.sqrt(sn))\n",
        "\n",
        "v = math.sqrt(sn) / f\n",
        "print('Коэффициент вариации: ', v)\n",
        "\n",
        "n = round((3.8416 * v ** 2) / 0.001 ** 2)\n",
        "print('Рассчитанный объем выборки: ', n)"
      ],
      "metadata": {
        "colab": {
          "base_uri": "https://localhost:8080/"
        },
        "id": "3YMjQ-gPTyHA",
        "outputId": "06ccd15d-f10e-4fd7-f492-b4e17f7e9f16"
      },
      "execution_count": 38,
      "outputs": [
        {
          "output_type": "stream",
          "name": "stdout",
          "text": [
            "Выборочное среднее:  0.0023474033607713486\n",
            "Выборочная дисперсия:  2.6991369705455546e-07\n",
            "Выборочная сигма:  0.0005195321905854877\n",
            "Коэффициент вариации:  0.22132207837291806\n",
            "Рассчитанный объем выборки:  188175\n"
          ]
        }
      ]
    }
  ]
}