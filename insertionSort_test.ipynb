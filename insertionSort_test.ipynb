{
  "nbformat": 4,
  "nbformat_minor": 0,
  "metadata": {
    "colab": {
      "provenance": [],
      "authorship_tag": "ABX9TyOEqr2T0gtJYu1ZWIH3SSue",
      "include_colab_link": true
    },
    "kernelspec": {
      "name": "python3",
      "display_name": "Python 3"
    },
    "language_info": {
      "name": "python"
    }
  },
  "cells": [
    {
      "cell_type": "markdown",
      "metadata": {
        "id": "view-in-github",
        "colab_type": "text"
      },
      "source": [
        "<a href=\"https://colab.research.google.com/github/GorbachevaPolina/test/blob/main/insertionSort_test.ipynb\" target=\"_parent\"><img src=\"https://colab.research.google.com/assets/colab-badge.svg\" alt=\"Open In Colab\"/></a>"
      ]
    },
    {
      "cell_type": "code",
      "execution_count": 12,
      "metadata": {
        "id": "Vjw4J30hOjZq"
      },
      "outputs": [],
      "source": [
        "def insertionSort(arr):\n",
        "    for i in range(1, len(arr)):\n",
        "        key = arr[i]\n",
        "        j = i-1\n",
        "        while j >= 0 and key < arr[j] :\n",
        "                arr[j + 1] = arr[j]\n",
        "                j -= 1\n",
        "        arr[j + 1] = key\n"
      ]
    },
    {
      "cell_type": "code",
      "source": [
        "import numpy as np\n",
        "import time\n",
        "import math\n",
        "\n",
        "res = []\n",
        "for i in range(200):\n",
        "  array = np.random.randint(1,101,100)\n",
        "  start = time.time()\n",
        "  insertionSort(array)\n",
        "  end = time.time() - start\n",
        "  res.append(end)\n",
        "\n",
        "f = sum(res) / 200\n",
        "print('Выборочное среднее: ', f)\n",
        "\n",
        "# sn = 0\n",
        "# for i in range(200):\n",
        "#   sn += (res[i] - f) ** 2\n",
        "# sn /= 200\n",
        "res2 = [x ** 2 for x in res]\n",
        "sn = sum(res2) / 200 - f ** 2\n",
        "print('Выборочная дисперсия: ', sn)\n",
        "print('Выборочная сигма: ', math.sqrt(sn))\n",
        "\n",
        "v = math.sqrt(sn) / f\n",
        "print('Коэффициент вариации: ', v)\n",
        "\n",
        "n = round((3.8416 * v ** 2) / 0.001 ** 2)\n",
        "print('Рассчитанный объем выборки: ', n)"
      ],
      "metadata": {
        "colab": {
          "base_uri": "https://localhost:8080/"
        },
        "id": "zTjh296nOmFD",
        "outputId": "440ed57b-b32a-4180-a871-c2a5733b31e0"
      },
      "execution_count": 39,
      "outputs": [
        {
          "output_type": "stream",
          "name": "stdout",
          "text": [
            "Выборочное среднее:  0.0009744012355804443\n",
            "Выборочная дисперсия:  1.0543938672924456e-08\n",
            "Выборочная сигма:  0.00010268368260305265\n",
            "Коэффициент вариации:  0.1053813140352646\n",
            "Рассчитанный объем выборки:  42662\n"
          ]
        }
      ]
    },
    {
      "cell_type": "code",
      "source": [
        "res = []\n",
        "for i in range(n):\n",
        "  array = np.random.randint(1,101,100)\n",
        "  start = time.time()\n",
        "  insertionSort(array)\n",
        "  end = time.time() - start\n",
        "  res.append(end)\n",
        "\n",
        "f = sum(res) / n\n",
        "print('Выборочное среднее: ', f)\n",
        "\n",
        "res2 = [x ** 2 for x in res]\n",
        "sn = sum(res2) / n - f ** 2\n",
        "print('Выборочная дисперсия: ', sn)\n",
        "print('Выборочная сигма: ', math.sqrt(sn))\n",
        "\n",
        "v = math.sqrt(sn) / f\n",
        "print('Коэффициент вариации: ', v)\n",
        "\n",
        "n = round((3.8416 * v ** 2) / 0.001 ** 2)\n",
        "print('Рассчитанный объем выборки: ', n)"
      ],
      "metadata": {
        "colab": {
          "base_uri": "https://localhost:8080/"
        },
        "id": "tQ9leT2VQO2N",
        "outputId": "6b1f7780-c11a-4352-be83-e48ea0520b9b"
      },
      "execution_count": 41,
      "outputs": [
        {
          "output_type": "stream",
          "name": "stdout",
          "text": [
            "Выборочное среднее:  0.0010340005155186642\n",
            "Выборочная дисперсия:  1.1150091202876443e-07\n",
            "Выборочная сигма:  0.0003339175227938247\n",
            "Коэффициент вариации:  0.3229374819279743\n",
            "Рассчитанный объем выборки:  400635\n"
          ]
        }
      ]
    },
    {
      "cell_type": "code",
      "source": [
        "res = []\n",
        "for i in range(n):\n",
        "  array = np.random.randint(1,101,100)\n",
        "  start = time.time()\n",
        "  insertionSort(array)\n",
        "  end = time.time() - start\n",
        "  res.append(end)\n",
        "\n",
        "f = sum(res) / n\n",
        "print('Выборочное среднее: ', f)\n",
        "\n",
        "res2 = [x ** 2 for x in res]\n",
        "sn = sum(res2) / n - f ** 2\n",
        "print('Выборочная дисперсия: ', sn)\n",
        "print('Выборочная сигма: ', math.sqrt(sn))\n",
        "\n",
        "v = math.sqrt(sn) / f\n",
        "print('Коэффициент вариации: ', v)\n",
        "\n",
        "n = round((3.8416 * v ** 2) / 0.001 ** 2)\n",
        "print('Рассчитанный объем выборки: ', n)"
      ],
      "metadata": {
        "colab": {
          "base_uri": "https://localhost:8080/"
        },
        "id": "MrqXJMM1Q2Sr",
        "outputId": "fb21bd84-209c-4d24-a9b0-4d30c8ef451e"
      },
      "execution_count": 42,
      "outputs": [
        {
          "output_type": "stream",
          "name": "stdout",
          "text": [
            "Выборочное среднее:  0.0009965766808808342\n",
            "Выборочная дисперсия:  5.655199812448267e-08\n",
            "Выборочная сигма:  0.00023780664020267112\n",
            "Коэффициент вариации:  0.23862352467698056\n",
            "Рассчитанный объем выборки:  218745\n"
          ]
        }
      ]
    }
  ]
}