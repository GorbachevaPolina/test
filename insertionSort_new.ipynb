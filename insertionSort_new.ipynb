{
  "nbformat": 4,
  "nbformat_minor": 0,
  "metadata": {
    "colab": {
      "provenance": [],
      "authorship_tag": "ABX9TyMDgTuBEsEjLjLcnxobjjuc",
      "include_colab_link": true
    },
    "kernelspec": {
      "name": "python3",
      "display_name": "Python 3"
    },
    "language_info": {
      "name": "python"
    }
  },
  "cells": [
    {
      "cell_type": "markdown",
      "metadata": {
        "id": "view-in-github",
        "colab_type": "text"
      },
      "source": [
        "<a href=\"https://colab.research.google.com/github/GorbachevaPolina/test/blob/main/insertionSort_new.ipynb\" target=\"_parent\"><img src=\"https://colab.research.google.com/assets/colab-badge.svg\" alt=\"Open In Colab\"/></a>"
      ]
    },
    {
      "cell_type": "code",
      "execution_count": null,
      "metadata": {
        "id": "Vjw4J30hOjZq"
      },
      "outputs": [],
      "source": [
        "def insertionSort(arr):\n",
        "    count = 0\n",
        "    for i in range(1, len(arr)):\n",
        "        key = arr[i]\n",
        "        j = i-1\n",
        "        while j >= 0 and key < arr[j] :\n",
        "                count += 1\n",
        "                arr[j + 1] = arr[j]\n",
        "                j -= 1\n",
        "        arr[j + 1] = key\n",
        "    return count"
      ]
    },
    {
      "cell_type": "code",
      "source": [
        "import numpy as np\n",
        "import time\n",
        "import math\n",
        "\n",
        "res = []\n",
        "for i in range(200):\n",
        "  array = np.random.randint(1,101,100)\n",
        "  # start = time.time()\n",
        "  count = insertionSort(array)\n",
        "  # end = time.time() - start\n",
        "  res.append(count)\n",
        "\n",
        "f = sum(res) / 200\n",
        "print('Выборочное среднее: ', f)\n",
        "\n",
        "# sn = 0\n",
        "# for i in range(200):\n",
        "#   sn += (res[i] - f) ** 2\n",
        "# sn /= 200\n",
        "res2 = [x ** 2 for x in res]\n",
        "sn = sum(res2) / 200 - f ** 2\n",
        "print('Выборочная дисперсия: ', sn)\n",
        "print('Выборочная сигма: ', math.sqrt(sn))\n",
        "\n",
        "v = math.sqrt(sn) / f\n",
        "print('Коэффициент вариации: ', v)\n",
        "\n",
        "n = round((3.8416 * v ** 2) / 0.001 ** 2)\n",
        "print('Рассчитанный объем выборки: ', n)"
      ],
      "metadata": {
        "colab": {
          "base_uri": "https://localhost:8080/"
        },
        "id": "zTjh296nOmFD",
        "outputId": "bebe96ae-537b-42ef-8651-7f9ba6182ab2"
      },
      "execution_count": null,
      "outputs": [
        {
          "output_type": "stream",
          "name": "stdout",
          "text": [
            "Выборочное среднее:  2470.905\n",
            "Выборочная дисперсия:  29747.25597499963\n",
            "Выборочная сигма:  172.47392839208953\n",
            "Коэффициент вариации:  0.06980192617364468\n",
            "Рассчитанный объем выборки:  18717\n"
          ]
        }
      ]
    },
    {
      "cell_type": "code",
      "source": [
        "res = []\n",
        "for i in range(n):\n",
        "  array = np.random.randint(1,101,100)\n",
        "  count = insertionSort(array)\n",
        "  res.append(count)\n",
        "\n",
        "f = sum(res) / n\n",
        "print('Выборочное среднее: ', f)\n",
        "\n",
        "res2 = [x ** 2 for x in res]\n",
        "sn = sum(res2) / n - f ** 2\n",
        "print('Выборочная дисперсия: ', sn)\n",
        "print('Выборочная сигма: ', math.sqrt(sn))\n",
        "\n",
        "v = math.sqrt(sn) / f\n",
        "print('Коэффициент вариации: ', v)\n",
        "\n",
        "n = round((3.8416 * v ** 2) / 0.001 ** 2)\n",
        "print('Рассчитанный объем выборки: ', n)"
      ],
      "metadata": {
        "colab": {
          "base_uri": "https://localhost:8080/"
        },
        "id": "tQ9leT2VQO2N",
        "outputId": "716f7f04-5896-4099-89de-51f95d8c24e9"
      },
      "execution_count": null,
      "outputs": [
        {
          "output_type": "stream",
          "name": "stdout",
          "text": [
            "Выборочное среднее:  2449.2715712988193\n",
            "Выборочная дисперсия:  28661.2680773139\n",
            "Выборочная сигма:  169.29639121172636\n",
            "Коэффициент вариации:  0.06912111878306354\n",
            "Рассчитанный объем выборки:  18354\n"
          ]
        }
      ]
    }
  ]
}